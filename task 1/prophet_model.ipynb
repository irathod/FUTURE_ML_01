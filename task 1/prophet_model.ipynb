{
  "nbformat": 4,
  "nbformat_minor": 0,
  "metadata": {
    "colab": {
      "provenance": []
    },
    "kernelspec": {
      "name": "python3",
      "display_name": "Python 3"
    },
    "language_info": {
      "name": "python"
    }
  },
  "cells": [
    {
      "cell_type": "code",
      "execution_count": null,
      "metadata": {
        "colab": {
          "base_uri": "https://localhost:8080/"
        },
        "id": "i9yXWrfG1b1i",
        "outputId": "2c24285e-7155-4ae6-dd95-42e0fded0568"
      },
      "outputs": [
        {
          "output_type": "stream",
          "name": "stdout",
          "text": [
            "Requirement already satisfied: prophet in /usr/local/lib/python3.12/dist-packages (1.1.7)\n",
            "Requirement already satisfied: cmdstanpy>=1.0.4 in /usr/local/lib/python3.12/dist-packages (from prophet) (1.2.5)\n",
            "Requirement already satisfied: numpy>=1.15.4 in /usr/local/lib/python3.12/dist-packages (from prophet) (2.0.2)\n",
            "Requirement already satisfied: matplotlib>=2.0.0 in /usr/local/lib/python3.12/dist-packages (from prophet) (3.10.0)\n",
            "Requirement already satisfied: pandas>=1.0.4 in /usr/local/lib/python3.12/dist-packages (from prophet) (2.2.2)\n",
            "Requirement already satisfied: holidays<1,>=0.25 in /usr/local/lib/python3.12/dist-packages (from prophet) (0.79)\n",
            "Requirement already satisfied: tqdm>=4.36.1 in /usr/local/lib/python3.12/dist-packages (from prophet) (4.67.1)\n",
            "Requirement already satisfied: importlib_resources in /usr/local/lib/python3.12/dist-packages (from prophet) (6.5.2)\n",
            "Requirement already satisfied: stanio<2.0.0,>=0.4.0 in /usr/local/lib/python3.12/dist-packages (from cmdstanpy>=1.0.4->prophet) (0.5.1)\n",
            "Requirement already satisfied: python-dateutil in /usr/local/lib/python3.12/dist-packages (from holidays<1,>=0.25->prophet) (2.9.0.post0)\n",
            "Requirement already satisfied: contourpy>=1.0.1 in /usr/local/lib/python3.12/dist-packages (from matplotlib>=2.0.0->prophet) (1.3.3)\n",
            "Requirement already satisfied: cycler>=0.10 in /usr/local/lib/python3.12/dist-packages (from matplotlib>=2.0.0->prophet) (0.12.1)\n",
            "Requirement already satisfied: fonttools>=4.22.0 in /usr/local/lib/python3.12/dist-packages (from matplotlib>=2.0.0->prophet) (4.59.1)\n",
            "Requirement already satisfied: kiwisolver>=1.3.1 in /usr/local/lib/python3.12/dist-packages (from matplotlib>=2.0.0->prophet) (1.4.9)\n",
            "Requirement already satisfied: packaging>=20.0 in /usr/local/lib/python3.12/dist-packages (from matplotlib>=2.0.0->prophet) (25.0)\n",
            "Requirement already satisfied: pillow>=8 in /usr/local/lib/python3.12/dist-packages (from matplotlib>=2.0.0->prophet) (11.3.0)\n",
            "Requirement already satisfied: pyparsing>=2.3.1 in /usr/local/lib/python3.12/dist-packages (from matplotlib>=2.0.0->prophet) (3.2.3)\n",
            "Requirement already satisfied: pytz>=2020.1 in /usr/local/lib/python3.12/dist-packages (from pandas>=1.0.4->prophet) (2025.2)\n",
            "Requirement already satisfied: tzdata>=2022.7 in /usr/local/lib/python3.12/dist-packages (from pandas>=1.0.4->prophet) (2025.2)\n",
            "Requirement already satisfied: six>=1.5 in /usr/local/lib/python3.12/dist-packages (from python-dateutil->holidays<1,>=0.25->prophet) (1.17.0)\n"
          ]
        },
        {
          "output_type": "stream",
          "name": "stderr",
          "text": [
            "/tmp/ipython-input-772444598.py:13: FutureWarning: 'M' is deprecated and will be removed in a future version, please use 'ME' instead.\n",
            "  monthly_sales = df.groupby(pd.Grouper(key='Order Date', freq='M')).agg({\n",
            "INFO:prophet:Disabling weekly seasonality. Run prophet with weekly_seasonality=True to override this.\n",
            "INFO:prophet:Disabling daily seasonality. Run prophet with daily_seasonality=True to override this.\n",
            "DEBUG:cmdstanpy:input tempfile: /tmp/tmpgkw38lfz/0w8sj6m3.json\n",
            "DEBUG:cmdstanpy:input tempfile: /tmp/tmpgkw38lfz/gorqy8uc.json\n",
            "DEBUG:cmdstanpy:idx 0\n",
            "DEBUG:cmdstanpy:running CmdStan, num_threads: None\n",
            "DEBUG:cmdstanpy:CmdStan args: ['/usr/local/lib/python3.12/dist-packages/prophet/stan_model/prophet_model.bin', 'random', 'seed=63352', 'data', 'file=/tmp/tmpgkw38lfz/0w8sj6m3.json', 'init=/tmp/tmpgkw38lfz/gorqy8uc.json', 'output', 'file=/tmp/tmpgkw38lfz/prophet_modelfoo41wzh/prophet_model-20250831063520.csv', 'method=optimize', 'algorithm=newton', 'iter=10000']\n",
            "06:35:20 - cmdstanpy - INFO - Chain [1] start processing\n",
            "INFO:cmdstanpy:Chain [1] start processing\n",
            "06:35:21 - cmdstanpy - INFO - Chain [1] done processing\n",
            "INFO:cmdstanpy:Chain [1] done processing\n",
            "/usr/local/lib/python3.12/dist-packages/prophet/forecaster.py:1872: FutureWarning: 'M' is deprecated and will be removed in a future version, please use 'ME' instead.\n",
            "  dates = pd.date_range(\n"
          ]
        },
        {
          "output_type": "stream",
          "name": "stdout",
          "text": [
            "✅ Done! Files generated: sales_forecast.csv, top_products.csv, superstore_clean.csv (all zipped)\n"
          ]
        }
      ],
      "source": [
        "# Install Prophet\n",
        "!pip install prophet\n",
        "\n",
        "import pandas as pd\n",
        "from prophet import Prophet\n",
        "import zipfile\n",
        "\n",
        "# Step 1: Load dataset\n",
        "df = pd.read_csv(\"Sample - Superstore.csv\", encoding='latin1')\n",
        "\n",
        "# Step 2: Prepare monthly sales data\n",
        "df['Order Date'] = pd.to_datetime(df['Order Date'])\n",
        "monthly_sales = df.groupby(pd.Grouper(key='Order Date', freq='M')).agg({\n",
        "    'Sales':'sum'\n",
        "}).reset_index()\n",
        "\n",
        "# Prophet requires 'ds' and 'y'\n",
        "df_prophet = monthly_sales.rename(columns={'Order Date':'ds', 'Sales':'y'})\n",
        "\n",
        "# Step 3: Train Prophet Model\n",
        "model = Prophet(interval_width=0.95)\n",
        "model.fit(df_prophet)\n",
        "\n",
        "# Step 4: Forecast next 12 months\n",
        "future = model.make_future_dataframe(periods=12, freq='M')\n",
        "forecast = model.predict(future)\n",
        "\n",
        "# Step 5: Merge actual + forecast\n",
        "final = forecast[['ds','yhat','yhat_lower','yhat_upper']].merge(\n",
        "    df_prophet, on='ds', how='left'\n",
        ")\n",
        "\n",
        "# Step 6: Save CSVs\n",
        "final.to_csv(\"sales_forecast.csv\", index=False)\n",
        "\n",
        "top_products = df.groupby(\"Product Name\").agg({\"Sales\":\"sum\"}).reset_index()\n",
        "top_products = top_products.sort_values(\"Sales\", ascending=False).head(10)\n",
        "top_products.to_csv(\"top_products.csv\", index=False)\n",
        "\n",
        "df.to_csv(\"superstore_clean.csv\", index=False)\n",
        "\n",
        "# Step 7: Zip all files\n",
        "with zipfile.ZipFile(\"dashboard_data_csv.zip\",\"w\") as z:\n",
        "    z.write(\"sales_forecast.csv\")\n",
        "    z.write(\"top_products.csv\")\n",
        "    z.write(\"superstore_clean.csv\")\n",
        "\n",
        "print(\"✅ Done! Files generated: sales_forecast.csv, top_products.csv, superstore_clean.csv (all zipped)\")\n"
      ]
    }
  ]
}